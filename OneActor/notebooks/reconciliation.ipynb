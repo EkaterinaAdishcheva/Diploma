{
 "cells": [
  {
   "cell_type": "code",
   "execution_count": null,
   "id": "8a11d439-ffc3-4c99-b086-5c1960eaaa16",
   "metadata": {},
   "outputs": [],
   "source": [
    "from PIL import Image\n",
    "import os\n",
    "import numpy as np\n",
    "from matplotlib import pyplot as plt\n",
    "import yaml\n",
    "import pickle\n",
    "import pandas as pd"
   ]
  },
  {
   "cell_type": "code",
   "execution_count": null,
   "id": "eb9ec6ed-ef3c-42a1-ad35-9aeda5b27095",
   "metadata": {},
   "outputs": [],
   "source": [
    "for _, dir, files in os.walk('.'):\n",
    "    break"
   ]
  },
  {
   "cell_type": "code",
   "execution_count": null,
   "id": "f886be2c-8fff-40db-972c-bbce61745b61",
   "metadata": {},
   "outputs": [],
   "source": [
    "dir = [d for d in dir if 'output_' in d]\n",
    "conf_file = [d for d in files if 'yaml' in d and 'gen' not in d][0]"
   ]
  },
  {
   "cell_type": "code",
   "execution_count": null,
   "id": "9ed098ff-ce71-4576-ae81-fc797ae1bcd4",
   "metadata": {},
   "outputs": [],
   "source": [
    "with open(conf_file, \"r\") as f:\n",
    "    config = yaml.safe_load(f)"
   ]
  },
  {
   "cell_type": "code",
   "execution_count": null,
   "id": "7afa1ec2-67c5-4fef-9c7f-3aec3d251593",
   "metadata": {},
   "outputs": [],
   "source": [
    "for _, _, files in os.walk('./inference_sdxl'):\n",
    "    break"
   ]
  },
  {
   "cell_type": "code",
   "execution_count": null,
   "id": "34ba3e0a-e8f0-4cb3-970b-cb25387087e4",
   "metadata": {},
   "outputs": [],
   "source": [
    "dir_files = {}\n",
    "name_files = set()\n",
    "for d in dir:\n",
    "    dir_files[d] = {}\n",
    "    dir_files[d]['files'] = []\n",
    "    for _, cd, fl in os.walk(f'./{d}'):\n",
    "        break\n",
    "    conf_file = [d for d in fl if 'log' in d ][0]\n",
    "    with open(f\"./{d}/{conf_file}\", \"r\") as f:\n",
    "        config = yaml.safe_load(f)\n",
    "    dir_files[d]['config'] = config\n",
    "    if 'inference' in cd:\n",
    "        for _, _, files in os.walk(f'./{d}/inference'):\n",
    "            break\n",
    "        dir_files[d]['files'] += files\n",
    "        name_files = name_files.union(set(files))"
   ]
  },
  {
   "cell_type": "code",
   "execution_count": null,
   "id": "9b6ef81b-f8bc-48fe-bdfc-b38bc9ae3f61",
   "metadata": {},
   "outputs": [],
   "source": [
    "import os\n",
    "os.makedirs(f\"./reconciliation\", exist_ok=True)\n",
    "\n",
    "# 100, 80, 40, 20\n",
    "for n, file_name in enumerate(name_files):\n",
    "    if '100' not in file_name:\n",
    "        continue\n",
    "    f, axarr = plt.subplots(2, (len(dir) + 2) // 2, figsize=(30, 15))\n",
    "    axarr[0][0].imshow(Image.open('target.jpg'))\n",
    "    axarr[0][0].set_title(\"Target\")\n",
    "    axarr[0][0].axis('off')\n",
    "    for m, d in enumerate(dir):\n",
    "        \n",
    "        if file_name in dir_files[d]['files']:\n",
    "            axarr[(m+1) // ((len(dir) + 2) // 2)][(m+1) % ((len(dir) + 2) // 2)].imshow(Image.open(f'./{d}/inference/{file_name}'))\n",
    "            if dir_files[d]['config']['use_mask']:\n",
    "                title = f\"mask, p={dir_files[d]['config']['mask_power']}, a={dir_files[d]['config']['mask_alpha']}\"\n",
    "            elif dir_files[d]['config']['use_zone']:\n",
    "                title = f\"zone, a={dir_files[d]['config']['zone_alpha']}\"\n",
    "            else:\n",
    "                title=\"OneActor\"\n",
    "            title = f\"{d}\\n{title}\"\n",
    "            axarr[(m+1) // ((len(dir) + 2) // 2)][(m+1) % ((len(dir) + 2) // 2)].set_title(title)\n",
    "            axarr[(m+1) // ((len(dir) + 2) // 2)][(m+1) % ((len(dir) + 2) // 2)].axis('off')\n",
    "    f.suptitle(f'{file_name}', fontsize=14)\n",
    "    plt.show()\n",
    "    f.savefig(f'./reconciliation/rec_{file_name}')       "
   ]
  },
  {
   "cell_type": "code",
   "execution_count": null,
   "id": "a1f37301-26af-4f8f-9e0b-a3d7cd69e3bd",
   "metadata": {},
   "outputs": [],
   "source": [
    "# load ds dcore\n",
    "with open(f\"metric_ds.pickle\", 'rb') as handle:\n",
    "    ds_score = pickle.load(handle)"
   ]
  },
  {
   "cell_type": "code",
   "execution_count": null,
   "id": "7e95c74e-32aa-4d6b-9e1c-e876242b96a6",
   "metadata": {},
   "outputs": [],
   "source": [
    "ds_score[(ds_score['exp'] == 'exp_2504211015') & (ds_score['epoch'] == 100)].groupby(['model', 'title']).mean('distance')"
   ]
  },
  {
   "cell_type": "code",
   "execution_count": null,
   "id": "e851ce5d-632c-42b1-8655-1f009864ac5b",
   "metadata": {},
   "outputs": [],
   "source": [
    "import os\n",
    "os.makedirs(f\"./reconciliation\", exist_ok=True)\n",
    "\n",
    "EPOCH = 100\n",
    "THEMA=\"teenager\"\n",
    "\n",
    "dir_short = ['output_2504211225','output_2504211945']\n",
    "name_files_short = [f for f in name_files if str(EPOCH) in f]\n",
    "\n",
    "\n",
    "for n, file_name in enumerate(name_files_short):\n",
    "    f, axarr = plt.subplots(1, (len(dir_short) + 1), figsize=(15, 6))\n",
    "    image1 = Image.open('target.jpg')\n",
    "    axarr[0].imshow(image1)\n",
    "    axarr[0].set_title(\"Target\")\n",
    "    axarr[0].axis('off')\n",
    "    for m, d in enumerate(dir_short):\n",
    "        image2 = Image.open(f'./{d}/inference/{file_name}')\n",
    "        axarr[m+1].imshow(image2)\n",
    "        if dir_files[d]['config']['use_mask']:\n",
    "            title = f\"mask, p={dir_files[d]['config']['mask_power']}, a={dir_files[d]['config']['mask_alpha']}\"\n",
    "        elif dir_files[d]['config']['use_zone']:\n",
    "            title = f\"zone, a={dir_files[d]['config']['zone_alpha']}\"\n",
    "        else:\n",
    "            title=\"OneActor\"\n",
    "        prompt = ('_'.join(file_name.split(\".\")[0].split(\"_\")[:-1]))\n",
    "        score = ds_score[(ds_score['prompt'] == prompt) & (ds_score['epoch'] == EPOCH) & (ds_score['model'] == d)]['dreamsimScore'].values[0]\n",
    "        clip_score = ds_score[(ds_score['prompt'] == prompt) & (ds_score['epoch'] == EPOCH) & (ds_score['model'] == d)]['CLIPScore'].values[0]\n",
    "        title = f\"{title}\\ndrieamsim score: {score:0.3f}\\nCLIPScore: {clip_score}\"\n",
    "        axarr[m+1].set_title(title, color=\"red\" if m%2 == 1 else \"black\")\n",
    "    plt.suptitle(file_name)\n",
    "    plt.show()\n",
    "    f.savefig(f'./reconciliation/{THEMA}_rec_OA_vs_Mask')\n",
    "print(\"score = 1 for identical images\")"
   ]
  },
  {
   "cell_type": "code",
   "execution_count": null,
   "id": "292ab8d3-c7dc-464e-bba5-9f2366d7f83f",
   "metadata": {},
   "outputs": [],
   "source": [
    "ds_score[\n",
    "    (ds_score['thema'] == 'adventurer_with_tousled_hair_comic_book') & (ds_score['epoch'] == 100) & (ds_score['title'].isin(['OneActor', 'mask, p=0.5, a=0.5']))\n",
    "    ].groupby('title').agg({'dreamsimScore':'mean', 'CLIPScore':'mean'})"
   ]
  },
  {
   "cell_type": "code",
   "execution_count": null,
   "id": "81d78be0-2697-4e08-bbde-99c389868cf2",
   "metadata": {},
   "outputs": [],
   "source": [
    "!cp reconciliation.ipynb /workspace/Diploma/notebooks"
   ]
  },
  {
   "cell_type": "code",
   "execution_count": null,
   "id": "d4d67663-5f52-42dc-a9f6-a47fee1532e1",
   "metadata": {},
   "outputs": [],
   "source": []
  }
 ],
 "metadata": {
  "kernelspec": {
   "display_name": "Python (oa_venv)",
   "language": "python",
   "name": "oa_venv"
  },
  "language_info": {
   "codemirror_mode": {
    "name": "ipython",
    "version": 3
   },
   "file_extension": ".py",
   "mimetype": "text/x-python",
   "name": "python",
   "nbconvert_exporter": "python",
   "pygments_lexer": "ipython3",
   "version": "3.10.12"
  }
 },
 "nbformat": 4,
 "nbformat_minor": 5
}
