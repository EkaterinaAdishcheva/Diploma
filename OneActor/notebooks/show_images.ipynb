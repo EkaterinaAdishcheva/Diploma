{
 "cells": [
  {
   "cell_type": "code",
   "execution_count": null,
   "id": "4dc93d4a-81f3-4ab8-afcb-08da168968ea",
   "metadata": {},
   "outputs": [],
   "source": [
    "%reload_ext autoreload\n",
    "%autoreload 2\n",
    "    \n",
    "from matplotlib import pyplot as plt\n",
    "from PIL import Image\n",
    "import os\n",
    "import numpy as np\n",
    "import pickle"
   ]
  },
  {
   "cell_type": "code",
   "execution_count": null,
   "id": "a17fdf30-c164-40aa-b71d-e1690a6974b8",
   "metadata": {},
   "outputs": [],
   "source": [
    "root = \".\""
   ]
  },
  {
   "cell_type": "code",
   "execution_count": null,
   "id": "694304ef-b87b-473a-80b1-2a26b70203bb",
   "metadata": {},
   "outputs": [],
   "source": [
    "with open(f\"{root}/target_data.pkl\", 'rb') as f:\n",
    "    target_data = pickle.load(f)\n",
    "target = Image.open(f\"{root}/target.jpg\")"
   ]
  },
  {
   "cell_type": "code",
   "execution_count": null,
   "id": "3595720c-13ec-47ed-89cc-b94764f71f47",
   "metadata": {},
   "outputs": [],
   "source": [
    "for _,_, files in os.walk(f\"{root}/base\"):\n",
    "    break\n",
    "files = [f.split(\".\")[0] for f in files if 'pkl' in f]\n",
    "print(files)"
   ]
  },
  {
   "cell_type": "code",
   "execution_count": null,
   "id": "db38d9fd-00a1-48ab-822c-63f643802628",
   "metadata": {},
   "outputs": [],
   "source": [
    "base_data = []\n",
    "base_images = []\n",
    "for file_id in files:\n",
    "    with open(f\"{root}/base/{file_id}.pkl\", 'rb') as f:\n",
    "        _data = pickle.load(f)\n",
    "        base_data.append(_data)\n",
    "    base_images.append(Image.open(f\"{root}/base/{file_id}.jpg\"))"
   ]
  },
  {
   "cell_type": "code",
   "execution_count": null,
   "id": "dcab96a0-a16a-4f47-8276-69789f1c2280",
   "metadata": {},
   "outputs": [],
   "source": [
    "f, axxs = plt.subplots(1, 3, figsize=(10, 3))\n",
    "axxs[0].imshow(np.asarray(target))\n",
    "axxs[1].imshow(target_data['mask_64'])\n",
    "axxs[2].plot([h[0].mean() for h in target_data['h_mid']])\n",
    "axxs[2].plot([h[1].mean() for h in target_data['h_mid']])\n",
    "print(target_data['prompt_embed'].mean())\n",
    "print(target_data['prompt'])"
   ]
  },
  {
   "cell_type": "code",
   "execution_count": null,
   "id": "0f8e0a8e-77c1-43e2-a4a3-3e489501bb61",
   "metadata": {},
   "outputs": [],
   "source": [
    "f, axxs = plt.subplots(len(base_data), 3, figsize=(10, 30))\n",
    "for n in range(len(base_data)):\n",
    "    axxs[n][0].imshow(np.asarray(base_images[n]))\n",
    "    axxs[n][1].imshow(base_data[n]['mask_64'])\n",
    "    axxs[n][2].plot([h[0].mean() for h in base_data[n]['h_mid']])\n",
    "    axxs[n][2].plot([h[1].mean() for h in base_data[n]['h_mid']])\n",
    "    print(base_data[n]['prompt_embed'].mean())\n",
    "    print(base_data[n]['prompt'])"
   ]
  }
 ],
 "metadata": {
  "kernelspec": {
   "display_name": "Python (oa_venv)",
   "language": "python",
   "name": "oa_venv"
  },
  "language_info": {
   "codemirror_mode": {
    "name": "ipython",
    "version": 3
   },
   "file_extension": ".py",
   "mimetype": "text/x-python",
   "name": "python",
   "nbconvert_exporter": "python",
   "pygments_lexer": "ipython3",
   "version": "3.10.12"
  }
 },
 "nbformat": 4,
 "nbformat_minor": 5
}
