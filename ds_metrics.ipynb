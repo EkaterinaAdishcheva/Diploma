{
 "cells": [
  {
   "cell_type": "code",
   "execution_count": null,
   "id": "7dc9c262-809f-4c77-9eef-7bcde307c8d5",
   "metadata": {},
   "outputs": [],
   "source": [
    "# Get the parent directory\n",
    "import sys\n",
    "import os\n",
    "parent_dir = os.path.dirname(os.path.realpath(\".\"))\n",
    "sys.path.append(parent_dir)"
   ]
  },
  {
   "cell_type": "code",
   "execution_count": 2,
   "id": "ad855eb2-6586-4198-b7c3-f86a25126398",
   "metadata": {},
   "outputs": [
    {
     "ename": "ModuleNotFoundError",
     "evalue": "No module named 'torch'",
     "output_type": "error",
     "traceback": [
      "\u001b[0;31m---------------------------------------------------------------------------\u001b[0m",
      "\u001b[0;31mModuleNotFoundError\u001b[0m                       Traceback (most recent call last)",
      "Cell \u001b[0;32mIn[2], line 1\u001b[0m\n\u001b[0;32m----> 1\u001b[0m \u001b[38;5;28;01mfrom\u001b[39;00m\u001b[38;5;250m \u001b[39m\u001b[38;5;21;01mdreamsim\u001b[39;00m\u001b[38;5;250m \u001b[39m\u001b[38;5;28;01mimport\u001b[39;00m dreamsim\n\u001b[1;32m      2\u001b[0m \u001b[38;5;28;01mfrom\u001b[39;00m\u001b[38;5;250m \u001b[39m\u001b[38;5;21;01mPIL\u001b[39;00m\u001b[38;5;250m \u001b[39m\u001b[38;5;28;01mimport\u001b[39;00m Image\n\u001b[1;32m      3\u001b[0m \u001b[38;5;28;01mimport\u001b[39;00m\u001b[38;5;250m \u001b[39m\u001b[38;5;21;01mtorch\u001b[39;00m\n",
      "File \u001b[0;32m/workspace/OneActor/dreamsim/dreamsim/__init__.py:1\u001b[0m\n\u001b[0;32m----> 1\u001b[0m \u001b[38;5;28;01mfrom\u001b[39;00m\u001b[38;5;250m \u001b[39m\u001b[38;5;21;01m.\u001b[39;00m\u001b[38;5;21;01mmodel\u001b[39;00m\u001b[38;5;250m \u001b[39m\u001b[38;5;28;01mimport\u001b[39;00m dreamsim, PerceptualModel\n",
      "File \u001b[0;32m/workspace/OneActor/dreamsim/dreamsim/model.py:3\u001b[0m\n\u001b[1;32m      1\u001b[0m \u001b[38;5;28;01mimport\u001b[39;00m\u001b[38;5;250m \u001b[39m\u001b[38;5;21;01mjson\u001b[39;00m\n\u001b[0;32m----> 3\u001b[0m \u001b[38;5;28;01mimport\u001b[39;00m\u001b[38;5;250m \u001b[39m\u001b[38;5;21;01mtorch\u001b[39;00m\n\u001b[1;32m      4\u001b[0m \u001b[38;5;28;01mimport\u001b[39;00m\u001b[38;5;250m \u001b[39m\u001b[38;5;21;01mtorch\u001b[39;00m\u001b[38;5;21;01m.\u001b[39;00m\u001b[38;5;21;01mnn\u001b[39;00m\u001b[38;5;21;01m.\u001b[39;00m\u001b[38;5;21;01mfunctional\u001b[39;00m\u001b[38;5;250m \u001b[39m\u001b[38;5;28;01mas\u001b[39;00m\u001b[38;5;250m \u001b[39m\u001b[38;5;21;01mF\u001b[39;00m\n\u001b[1;32m      5\u001b[0m \u001b[38;5;28;01mfrom\u001b[39;00m\u001b[38;5;250m \u001b[39m\u001b[38;5;21;01mtorch\u001b[39;00m\u001b[38;5;250m \u001b[39m\u001b[38;5;28;01mimport\u001b[39;00m nn\n",
      "\u001b[0;31mModuleNotFoundError\u001b[0m: No module named 'torch'"
     ]
    }
   ],
   "source": [
    "from dreamsim import dreamsim\n",
    "from PIL import Image\n",
    "import torch\n",
    "\n",
    "device = \"cuda\"\n",
    "model, preprocess = dreamsim(pretrained=True, device=device)"
   ]
  },
  {
   "cell_type": "code",
   "execution_count": 58,
   "id": "57e938c5-a9e4-4264-840c-a4653ec6d3de",
   "metadata": {},
   "outputs": [],
   "source": [
    "from PIL import Image\n",
    "import numpy as np\n",
    "\n",
    "# Ensure tensors are on the correct device\n",
    "device = \"cuda\"\n",
    "\n",
    "def score_recults(source_dir, source_file, sdxl_fdir, sdxl_file, oneactor_dir, oneactor_files):\n",
    "    res = {}\n",
    "    # Load and convert images to RGB and numpy arrays\n",
    "    source_image = preprocess(Image.open(source_dir + source_file)).to(device)\n",
    "    \n",
    "    sdxl_image = preprocess(Image.open(sdxl_fdir + sdxl_file)).to(device)\n",
    "\n",
    "    distance = model(sdxl_image, source_image)\n",
    "    res[sdxl_file] = float(distance.cpu().detach().numpy()[0])\n",
    "    \n",
    "    \n",
    "    for image_file in oneactor_files:\n",
    "        image = preprocess(Image.open(oneactor_dir + image_file)).to(device)\n",
    "    \n",
    "        # Compute metric and round the score\n",
    "        # 100 is identical\n",
    "        distance = model(image, source_image)\n",
    "        res[image_file] = float(distance.cpu().detach().numpy()[0])\n",
    "\n",
    "    return res"
   ]
  },
  {
   "cell_type": "code",
   "execution_count": 59,
   "id": "a3bf8571-0e37-4c26-943e-21052388b445",
   "metadata": {},
   "outputs": [],
   "source": [
    "dir_name = 'a_rugger_adventurer_with_tousled_hair_comic_book_stile'\n",
    "\n",
    "oneactor_dir = f'/workspace/OneActor/output/demo/{dir_name}/inference/'\n",
    "source_dir = f'/workspace/OneActor/data/demo/{dir_name}/'\n",
    "source_file = 'source.jpg'\n",
    "\n",
    "res = {}\n",
    "subject_list = ['a_city_as_background',\n",
    "   'the_effel_tower_as_a_background',\n",
    "   'the_statue_of_liberty_as_a_background',\n",
    "   'eating_a_burger',\n",
    "   'wearing_sunglasses']\n",
    "for subject in subject_list:\n",
    "    oneactor_files = [\n",
    "        f'OneActor_{subject}_step_{n}.jpg' for n in [20, 40, 80, 120, 160, 200]\n",
    "    ]\n",
    "    sdxl_file = f\"original_{subject}_sdxl.jpg\"\n",
    "    res[subject] = score_recults(source_dir, source_file, oneactor_dir, sdxl_file, oneactor_dir, oneactor_files)"
   ]
  },
  {
   "cell_type": "code",
   "execution_count": 60,
   "id": "cc718db7-d22d-4511-a6ed-61460cf81357",
   "metadata": {},
   "outputs": [],
   "source": [
    "import pickle\n",
    "with open(\"/workspace/OneActor/\" + dir_name+\"_ds.pickle\", 'wb') as handle:\n",
    "    pickle.dump(res, handle, protocol=pickle.HIGHEST_PROTOCOL)"
   ]
  },
  {
   "cell_type": "code",
   "execution_count": 63,
   "id": "b417d345-18ce-405d-8e9f-72d07f244869",
   "metadata": {},
   "outputs": [],
   "source": [
    "dir_name = 'a_young_woman_with_long_wavy_hair_wairing_sundress_photo_realistic'\n",
    "\n",
    "oneactor_dir = f'/workspace/OneActor/output/demo/{dir_name}/inference/'\n",
    "source_dir = f'/workspace/OneActor/data/demo/{dir_name}/'\n",
    "source_file = 'source.jpg'\n",
    "\n",
    "res = {}\n",
    "subject_list = ['standing_in_wildflowers',\n",
    "   'walking_on_sunset_beach',\n",
    "   'sitting_at_cafe',\n",
    "   'leaning_on_a_fence']\n",
    "for subject in subject_list:\n",
    "    oneactor_files = [\n",
    "        f'OneActor_{subject}_step_{n}.jpg' for n in [20, 40, 80, 120, 160, 200]\n",
    "    ]\n",
    "    sdxl_file = f\"original_{subject}_sdxl.jpg\"\n",
    "    res[subject] = score_recults(source_dir, source_file, oneactor_dir, sdxl_file, oneactor_dir, oneactor_files)"
   ]
  },
  {
   "cell_type": "code",
   "execution_count": 64,
   "id": "e1301c1c-7f10-49f5-b251-ffbf70568553",
   "metadata": {},
   "outputs": [],
   "source": [
    "with open(\"/workspace/OneActor/\" + dir_name+\"_ds.pickle\", 'wb') as handle:\n",
    "    pickle.dump(res, handle, protocol=pickle.HIGHEST_PROTOCOL)"
   ]
  },
  {
   "cell_type": "code",
   "execution_count": null,
   "id": "bb6aa73a-181d-411d-a435-5029d6face16",
   "metadata": {},
   "outputs": [],
   "source": []
  }
 ],
 "metadata": {
  "kernelspec": {
   "display_name": "Python (ds)",
   "language": "python",
   "name": "ds"
  },
  "language_info": {
   "codemirror_mode": {
    "name": "ipython",
    "version": 3
   },
   "file_extension": ".py",
   "mimetype": "text/x-python",
   "name": "python",
   "nbconvert_exporter": "python",
   "pygments_lexer": "ipython3",
   "version": "3.10.12"
  }
 },
 "nbformat": 4,
 "nbformat_minor": 5
}
