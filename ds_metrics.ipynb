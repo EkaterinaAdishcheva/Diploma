{
 "cells": [
  {
   "cell_type": "code",
   "execution_count": 1,
   "id": "7dc9c262-809f-4c77-9eef-7bcde307c8d5",
   "metadata": {},
   "outputs": [],
   "source": [
    "# Get the parent directory\n",
    "import sys\n",
    "import os\n",
    "parent_dir = os.path.dirname(os.path.realpath(\".\"))\n",
    "sys.path.append(parent_dir)"
   ]
  },
  {
   "cell_type": "code",
   "execution_count": 2,
   "id": "ad855eb2-6586-4198-b7c3-f86a25126398",
   "metadata": {},
   "outputs": [
    {
     "name": "stderr",
     "output_type": "stream",
     "text": [
      "/workspace/ds/lib/python3.10/site-packages/tqdm/auto.py:21: TqdmWarning: IProgress not found. Please update jupyter and ipywidgets. See https://ipywidgets.readthedocs.io/en/stable/user_install.html\n",
      "  from .autonotebook import tqdm as notebook_tqdm\n"
     ]
    },
    {
     "name": "stdout",
     "output_type": "stream",
     "text": [
      "Using cached ./models\n"
     ]
    },
    {
     "name": "stderr",
     "output_type": "stream",
     "text": [
      "Using cache found in ./models/facebookresearch_dino_main\n",
      "/workspace/ds/lib/python3.10/site-packages/torch/nn/utils/weight_norm.py:143: FutureWarning: `torch.nn.utils.weight_norm` is deprecated in favor of `torch.nn.utils.parametrizations.weight_norm`.\n",
      "  WeightNorm.apply(module, name, dim)\n",
      "/workspace/ds/lib/python3.10/site-packages/peft/tuners/tuners_utils.py:167: UserWarning: Already found a `peft_config` attribute in the model. This will lead to having multiple adapters in the model. Make sure to know what you are doing!\n",
      "  warnings.warn(\n"
     ]
    }
   ],
   "source": [
    "from dreamsim import dreamsim\n",
    "from PIL import Image\n",
    "\n",
    "device = \"cuda\"\n",
    "model, preprocess = dreamsim(pretrained=True, device=device)"
   ]
  },
  {
   "cell_type": "code",
   "execution_count": 21,
   "id": "b6b42b7a-cb6a-4740-9f35-2e311e76dddd",
   "metadata": {},
   "outputs": [],
   "source": [
    "dir_name = 'a_young_woman_with_long_wavy_hair_wairing_sundress_photo_realistic'\n",
    "dir_name = 'a_rugger_adventurer_with_tousled_hair_comic_book_stile'\n",
    "\n",
    "oneactor_dir = f'/workspace/OneActor/output/demo/{dir_name}/inference/'\n",
    "source_dir = f'/workspace/OneActor/data/demo/{dir_name}/'\n",
    "source_file = 'source.jpg'"
   ]
  },
  {
   "cell_type": "code",
   "execution_count": 22,
   "id": "57e938c5-a9e4-4264-840c-a4653ec6d3de",
   "metadata": {},
   "outputs": [],
   "source": [
    "from PIL import Image\n",
    "import numpy as np\n",
    "\n",
    "# Ensure tensors are on the correct device\n",
    "device = \"cuda\"\n",
    "\n",
    "def score_recults(source_dir, source_file, sdxl_fdir, sdxl_file, oneactor_dir, oneactor_files):\n",
    "    \n",
    "    # Load and convert images to RGB and numpy arrays\n",
    "    source_image = preprocess(Image.open(source_dir + source_file)).to(device)\n",
    "    \n",
    "    sdxl_image = preprocess(Image.open(sdxl_fdir + sdxl_file)).to(device)\n",
    "\n",
    "    distance = model(sdxl_image, source_image)\n",
    "    print(f\"{sdxl_file}: {distance.cpu().detach().numpy()}\")\n",
    "    \n",
    "    \n",
    "    for image_file in oneactor_files:\n",
    "        image = preprocess(Image.open(oneactor_dir + image_file)).to(device)\n",
    "    \n",
    "        # Compute metric and round the score\n",
    "        # 100 is identical\n",
    "        distance = model(image, source_image)\n",
    "        print(f\"{image_file}: {distance.cpu().detach().numpy()}\")\n",
    "\n"
   ]
  },
  {
   "cell_type": "code",
   "execution_count": 23,
   "id": "a3bf8571-0e37-4c26-943e-21052388b445",
   "metadata": {},
   "outputs": [
    {
     "name": "stdout",
     "output_type": "stream",
     "text": [
      "original_a_city_as_background_sdxl.jpg: [0.40936422]\n",
      "OneActor_a_city_as_background_step_20.jpg: [0.38260853]\n",
      "OneActor_a_city_as_background_step_40.jpg: [0.41629207]\n",
      "OneActor_a_city_as_background_step_80.jpg: [0.38017]\n",
      "OneActor_a_city_as_background_step_120.jpg: [0.3942536]\n",
      "OneActor_a_city_as_background_step_160.jpg: [0.2950213]\n",
      "OneActor_a_city_as_background_step_200.jpg: [0.34163553]\n",
      "original_the_effel_tower_as_a_background_sdxl.jpg: [0.41034883]\n",
      "OneActor_the_effel_tower_as_a_background_step_20.jpg: [0.46806562]\n",
      "OneActor_the_effel_tower_as_a_background_step_40.jpg: [0.41493487]\n",
      "OneActor_the_effel_tower_as_a_background_step_80.jpg: [0.40061128]\n",
      "OneActor_the_effel_tower_as_a_background_step_120.jpg: [0.43733996]\n",
      "OneActor_the_effel_tower_as_a_background_step_160.jpg: [0.40601736]\n",
      "OneActor_the_effel_tower_as_a_background_step_200.jpg: [0.4085623]\n",
      "original_the_statue_of_liberty_as_a_background_sdxl.jpg: [0.48578596]\n",
      "OneActor_the_statue_of_liberty_as_a_background_step_20.jpg: [0.48397124]\n",
      "OneActor_the_statue_of_liberty_as_a_background_step_40.jpg: [0.42596763]\n",
      "OneActor_the_statue_of_liberty_as_a_background_step_80.jpg: [0.51820195]\n",
      "OneActor_the_statue_of_liberty_as_a_background_step_120.jpg: [0.5140696]\n",
      "OneActor_the_statue_of_liberty_as_a_background_step_160.jpg: [0.59200686]\n",
      "OneActor_the_statue_of_liberty_as_a_background_step_200.jpg: [0.6756321]\n",
      "original_eating_a_burger_sdxl.jpg: [0.39400512]\n",
      "OneActor_eating_a_burger_step_20.jpg: [0.43948442]\n",
      "OneActor_eating_a_burger_step_40.jpg: [0.39143258]\n",
      "OneActor_eating_a_burger_step_80.jpg: [0.41194177]\n",
      "OneActor_eating_a_burger_step_120.jpg: [0.43483996]\n",
      "OneActor_eating_a_burger_step_160.jpg: [0.41390675]\n",
      "OneActor_eating_a_burger_step_200.jpg: [0.4335751]\n",
      "original_wearing_sunglasses_sdxl.jpg: [0.3781711]\n",
      "OneActor_wearing_sunglasses_step_20.jpg: [0.39116699]\n",
      "OneActor_wearing_sunglasses_step_40.jpg: [0.40776014]\n",
      "OneActor_wearing_sunglasses_step_80.jpg: [0.38865614]\n",
      "OneActor_wearing_sunglasses_step_120.jpg: [0.42007703]\n",
      "OneActor_wearing_sunglasses_step_160.jpg: [0.3737415]\n",
      "OneActor_wearing_sunglasses_step_200.jpg: [0.37834084]\n"
     ]
    }
   ],
   "source": [
    "subject_list = ['a_city_as_background',\n",
    "   'the_effel_tower_as_a_background',\n",
    "   'the_statue_of_liberty_as_a_background',\n",
    "   'eating_a_burger',\n",
    "   'wearing_sunglasses']\n",
    "for subject in subject_list:\n",
    "    oneactor_files = [\n",
    "        f'OneActor_{subject}_step_{n}.jpg' for n in [20, 40, 80, 120, 160, 200]\n",
    "    ]\n",
    "    sdxl_file = f\"original_{subject}_sdxl.jpg\"\n",
    "    score_recults(source_dir, source_file, oneactor_dir, sdxl_file, oneactor_dir, oneactor_files)"
   ]
  },
  {
   "cell_type": "code",
   "execution_count": null,
   "id": "672325f9-bdfc-4794-9da3-d3a138186d95",
   "metadata": {},
   "outputs": [],
   "source": []
  }
 ],
 "metadata": {
  "kernelspec": {
   "display_name": "Python (ds)",
   "language": "python",
   "name": "ds"
  },
  "language_info": {
   "codemirror_mode": {
    "name": "ipython",
    "version": 3
   },
   "file_extension": ".py",
   "mimetype": "text/x-python",
   "name": "python",
   "nbconvert_exporter": "python",
   "pygments_lexer": "ipython3",
   "version": "3.10.12"
  }
 },
 "nbformat": 4,
 "nbformat_minor": 5
}
